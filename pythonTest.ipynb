{
  "nbformat": 4,
  "nbformat_minor": 0,
  "metadata": {
    "colab": {
      "provenance": []
    },
    "kernelspec": {
      "name": "python3",
      "display_name": "Python 3"
    },
    "language_info": {
      "name": "python"
    }
  },
  "cells": [
    {
      "cell_type": "code",
      "execution_count": null,
      "metadata": {
        "colab": {
          "base_uri": "https://localhost:8080/"
        },
        "id": "YHjrAR-_aO_p",
        "outputId": "c5472323-e1c8-4922-d55e-8541fdb41f12"
      },
      "outputs": [
        {
          "output_type": "stream",
          "name": "stdout",
          "text": [
            "Collecting ColabTurtlePlus\n",
            "  Downloading ColabTurtlePlus-2.0.1-py3-none-any.whl.metadata (10 kB)\n",
            "Downloading ColabTurtlePlus-2.0.1-py3-none-any.whl (31 kB)\n",
            "Installing collected packages: ColabTurtlePlus\n",
            "Successfully installed ColabTurtlePlus-2.0.1\n"
          ]
        }
      ],
      "source": [
        "# If use google colab Install this\n",
        "!pip install ColabTurtlePlus"
      ]
    },
    {
      "cell_type": "markdown",
      "source": [
        "# Beginner Level\n"
      ],
      "metadata": {
        "id": "Ph7ToWtra6cl"
      }
    },
    {
      "cell_type": "markdown",
      "source": [
        "#### Coding Questions"
      ],
      "metadata": {
        "id": "j36uZ46obfzm"
      }
    },
    {
      "cell_type": "markdown",
      "source": [
        "Write a Python program to print your name. <br> **(Should not more than 30 seconds)**\n"
      ],
      "metadata": {
        "id": "nizvsNsQktiQ"
      }
    },
    {
      "cell_type": "code",
      "source": [],
      "metadata": {
        "id": "A2XbtwnFkvOQ"
      },
      "execution_count": null,
      "outputs": []
    },
    {
      "cell_type": "markdown",
      "source": [
        "Write a program that adds two numbers: 5 and 3. <br>**(Should not more than 30 seconds)**\n"
      ],
      "metadata": {
        "id": "aZuSUMkHkwia"
      }
    },
    {
      "cell_type": "code",
      "source": [],
      "metadata": {
        "id": "YVxMUqyPakP-"
      },
      "execution_count": null,
      "outputs": []
    },
    {
      "cell_type": "markdown",
      "source": [
        "Write a program to check if the number 10 is greater than 5. otherwise print 10 is not greater than 5 <br> **(Should not more than 2 minutes)**\n"
      ],
      "metadata": {
        "id": "MucjFL86k4KG"
      }
    },
    {
      "cell_type": "code",
      "source": [],
      "metadata": {
        "id": "VjP_XW5WbN6G"
      },
      "execution_count": null,
      "outputs": []
    },
    {
      "cell_type": "markdown",
      "source": [
        "#### Answering Questions (No Coding Required)"
      ],
      "metadata": {
        "id": "oj5Kem0wbmy_"
      }
    },
    {
      "cell_type": "markdown",
      "source": [
        "What is a variable in Python?\n",
        "\n",
        "\n",
        "1.   A place to store values\n",
        "2.   A type of loop\n",
        "3.   A built-in function\n",
        "\n"
      ],
      "metadata": {
        "id": "Gd7k8zHpjqQS"
      }
    },
    {
      "cell_type": "markdown",
      "source": [
        "Which of the following is a correct way to write a comment in Python?\n",
        "\n",
        "\n",
        "1.   `// This is a comment`\n",
        "2.   `# This is a comment`\n",
        "3.   `<!-- This is a comment -->`\n",
        "\n",
        "\n",
        "\n",
        "\n",
        "\n",
        "\n"
      ],
      "metadata": {
        "id": "lH8laTgbj7y2"
      }
    },
    {
      "cell_type": "markdown",
      "source": [
        "#### Output Questions"
      ],
      "metadata": {
        "id": "QTb6eOgtcOH7"
      }
    },
    {
      "cell_type": "markdown",
      "source": [
        "What will be the output of the following code? <br>\n",
        "`print(7 * 2)`\n",
        "\n",
        "\n",
        "1.   9\n",
        "2.  14\n",
        "3.  72\n"
      ],
      "metadata": {
        "id": "4e3CNDmmlGoT"
      }
    },
    {
      "cell_type": "markdown",
      "source": [
        "What will the following code print? <br>\n",
        "\n",
        "```\n",
        "name = \"Alex\"\n",
        "print(\"Hello, \" + name + \"!\")\n",
        "```\n",
        "\n",
        "\n",
        "1.   Hello, Alex!\n",
        "2.   Hello Alex!\n",
        "3.Hello, name!\n",
        "\n",
        "\n",
        "\n"
      ],
      "metadata": {
        "id": "Le55H-40lbua"
      }
    },
    {
      "cell_type": "markdown",
      "source": [
        "What is the output of this code? <br>\n",
        "\n",
        "\n",
        "```\n",
        "for i in range(3):\n",
        "    print(\"Python\")\n",
        "```\n",
        "\n",
        "\n",
        "1.   Python <br>\n",
        "   Python <br>\n",
        "   Python <br>\n",
        "2.   Python 3 times\n",
        "3. No output\n",
        "\n",
        "\n",
        "\n"
      ],
      "metadata": {
        "id": "2oU_8X09lwPu"
      }
    },
    {
      "cell_type": "markdown",
      "source": [
        "#### Debugging"
      ],
      "metadata": {
        "id": "RWZof1nUrOMH"
      }
    },
    {
      "cell_type": "markdown",
      "source": [
        "Fix the error in the following code"
      ],
      "metadata": {
        "id": "lOtQLgQtmMvq"
      }
    },
    {
      "cell_type": "code",
      "source": [
        "if 10 > 5\n",
        "    print(\"10 is greater\")"
      ],
      "metadata": {
        "id": "Hv6lomGgrVLl"
      },
      "execution_count": null,
      "outputs": []
    },
    {
      "cell_type": "markdown",
      "source": [
        " Find the error in the following code"
      ],
      "metadata": {
        "id": "MYQnb2TOmPpR"
      }
    },
    {
      "cell_type": "code",
      "source": [
        "print \"Hello, World!\""
      ],
      "metadata": {
        "id": "xzMXYD-zrnyR"
      },
      "execution_count": null,
      "outputs": []
    },
    {
      "cell_type": "markdown",
      "source": [
        "# Intermediate level"
      ],
      "metadata": {
        "id": "Zacv0KO7r_Fk"
      }
    },
    {
      "cell_type": "markdown",
      "source": [
        "#### Coding Questions"
      ],
      "metadata": {
        "id": "ha01PmQosgCm"
      }
    },
    {
      "cell_type": "markdown",
      "source": [
        "Write a program that asks the user for a number <br> **(Should not more than 2 minutes)**"
      ],
      "metadata": {
        "id": "jcLJBrzNnSix"
      }
    },
    {
      "cell_type": "code",
      "source": [
        "number =\n",
        "print(f\"The number is {number}\")"
      ],
      "metadata": {
        "id": "DcaTPFFquKY6"
      },
      "execution_count": null,
      "outputs": []
    },
    {
      "cell_type": "markdown",
      "source": [
        " Write a program that asks the user for a number and checks if it is even or odd. <br>  (use if-else condition and modulo oparator) <br> **(Should not more than 4 minutes)**\n"
      ],
      "metadata": {
        "id": "eDicfqb4nXib"
      }
    },
    {
      "cell_type": "code",
      "source": [
        "number ="
      ],
      "metadata": {
        "id": "wUfn7I4qwX56"
      },
      "execution_count": null,
      "outputs": []
    },
    {
      "cell_type": "markdown",
      "source": [
        "Write a function to calculate the square of a number.  Fill in the missing parts!"
      ],
      "metadata": {
        "id": "EvrpeVDtniD6"
      }
    },
    {
      "cell_type": "markdown",
      "source": [
        "option 1 (You can use operator of multiply or exponential) <br>**(Should not more than 3 minutes)**"
      ],
      "metadata": {
        "id": "XTjk24GSnuAO"
      }
    },
    {
      "cell_type": "code",
      "source": [
        "number = input\n",
        "square ="
      ],
      "metadata": {
        "id": "W0AJfMYUsI7z"
      },
      "execution_count": null,
      "outputs": []
    },
    {
      "cell_type": "markdown",
      "source": [
        " **or**"
      ],
      "metadata": {
        "id": "Au28-HUUnxuF"
      }
    },
    {
      "cell_type": "markdown",
      "source": [
        "option 2 define a function <br>**(Should not more than 4 minutes)**\n"
      ],
      "metadata": {
        "id": "YZoRKGL0n1CP"
      }
    },
    {
      "cell_type": "code",
      "source": [
        "def square(number)"
      ],
      "metadata": {
        "id": "cliSivRun3_h"
      },
      "execution_count": null,
      "outputs": []
    },
    {
      "cell_type": "markdown",
      "source": [
        "#### Answering Questions (No Coding Required)"
      ],
      "metadata": {
        "id": "oNK_3InfxEfK"
      }
    },
    {
      "cell_type": "markdown",
      "source": [
        "What should we change in this code. If we want the output : True <br>\n",
        "\n",
        "\n",
        "```\n",
        "print(True & False)\n",
        "```\n",
        "\n",
        "\n",
        "\n",
        "\n",
        "1.   `print(False & True)`\n",
        "2.  ` print(True | False)`\n",
        "3.`print(~True)`\n",
        "\n",
        "\n",
        "\n"
      ],
      "metadata": {
        "id": "oUVFGT8hoB3J"
      }
    },
    {
      "cell_type": "markdown",
      "source": [
        "What does the following code do?\n",
        "\n",
        "\n",
        "```\n",
        "for i in range(1, 6):\n",
        "    print(i * \"*\")\n",
        "```\n",
        "\n",
        "\n",
        "1.   Prints numbers from 1 to 5\n",
        "2.   Prints a triangle of stars\n",
        "3.   Error\n",
        "\n",
        "\n"
      ],
      "metadata": {
        "id": "47B_BpzssIwK"
      }
    },
    {
      "cell_type": "markdown",
      "source": [
        "What is the purpose of a while loop in Python?\n",
        "\n",
        "\n",
        "1.   To run a block of code a fixed number of times\n",
        "2.   To run a block of code as long as a condition is true\n",
        "3.   To check if a number is prime\n",
        "\n"
      ],
      "metadata": {
        "id": "EYJMro5xsYGj"
      }
    },
    {
      "cell_type": "markdown",
      "source": [
        "#### Output Question"
      ],
      "metadata": {
        "id": "-MHo5L9l0Nle"
      }
    },
    {
      "cell_type": "markdown",
      "source": [
        "What will be the output of the following code?\n",
        "\n",
        "\n",
        "```\n",
        "for i in range(3):\n",
        "    print(i)\n",
        "else:\n",
        "    print(\"Done\")\n",
        "```\n",
        "\n",
        "\n",
        "1.   0 <br>\n",
        "   1 <br>\n",
        "   2 <br>\n",
        "   Done\n",
        "2.   0 <br>\n",
        "   1 <br>\n",
        "   2 <br>\n",
        "3. 0 <br>\n",
        "   1<br>\n",
        "   2 <br>\n",
        "   3 <br>\n",
        "   Done\n",
        "\n",
        "\n",
        "\n"
      ],
      "metadata": {
        "id": "y8uo4UrAtMoI"
      }
    },
    {
      "cell_type": "markdown",
      "source": [
        "What will be the output of the following code?\n",
        "\n",
        "\n",
        "```\n",
        "a = [1, 2, 3]\n",
        "b = a\n",
        "b.append(4)\n",
        "print(a)\n",
        "```\n",
        "\n",
        "\n",
        "1.   [1, 2, 3]\n",
        "2.   [1, 2, 3, 4]\n",
        "3.   [4, 1, 2, 3]\n",
        "\n",
        "\n"
      ],
      "metadata": {
        "id": "FnU2RDYJtoqQ"
      }
    },
    {
      "cell_type": "markdown",
      "source": [
        "#### Debugging"
      ],
      "metadata": {
        "id": "jIuS2bNR2aRV"
      }
    },
    {
      "cell_type": "markdown",
      "source": [
        "Find the bug (Do not use `append()` 2 times)"
      ],
      "metadata": {
        "id": "KPY6RSfHt3Bg"
      }
    },
    {
      "cell_type": "code",
      "source": [
        "x = [1, 2, 3]\n",
        "x.append(4, 5)\n",
        "print(x)"
      ],
      "metadata": {
        "id": "ZHFIFbHS2cfP"
      },
      "execution_count": null,
      "outputs": []
    },
    {
      "cell_type": "markdown",
      "source": [
        "Find the bug"
      ],
      "metadata": {
        "id": "52eeCXMjt8-s"
      }
    },
    {
      "cell_type": "code",
      "source": [
        "print(len(12345))"
      ],
      "metadata": {
        "id": "G0rsaPRA2mEJ"
      },
      "execution_count": null,
      "outputs": []
    },
    {
      "cell_type": "markdown",
      "source": [
        "# Drawing Python Part"
      ],
      "metadata": {
        "id": "u2M2p-DX2xn4"
      }
    },
    {
      "cell_type": "markdown",
      "source": [
        "#### Coding part"
      ],
      "metadata": {
        "id": "PMbhExv-4jh2"
      }
    },
    {
      "cell_type": "markdown",
      "source": [
        "\n",
        "Caution Use ColabTurtlePlus for Google Colab. <br>\n",
        "If you are using another IDE or environment (e.g., Thonny, IDLE, VS Code, PyCharm), you can use the normal turtle library. <br>\n",
        "`from turtle import *` or `import turtle`"
      ],
      "metadata": {
        "id": "W6-kGKOmuI3l"
      }
    },
    {
      "cell_type": "markdown",
      "source": [
        "Run this code everytime"
      ],
      "metadata": {
        "id": "Z75Fbr2numeT"
      }
    },
    {
      "cell_type": "code",
      "source": [
        "from ColabTurtlePlus import Turtle\n",
        "Turtle.initializeTurtle()"
      ],
      "metadata": {
        "colab": {
          "base_uri": "https://localhost:8080/",
          "height": 659
        },
        "id": "gHXT92dd9mtS",
        "outputId": "a4912141-7150-45ba-e146-302a5eebf463"
      },
      "execution_count": null,
      "outputs": [
        {
          "output_type": "stream",
          "name": "stdout",
          "text": [
            "Put clearscreen() as the first line in a cell (after the import command) to re-run turtle commands in the cell\n"
          ]
        },
        {
          "output_type": "display_data",
          "data": {
            "text/plain": [
              "<IPython.core.display.HTML object>"
            ],
            "text/html": [
              "\n",
              "      <svg width=\"800\" height=\"600\">  \n",
              "        <rect width=\"100%\" height=\"100%\" style=\"fill:white;stroke:;stroke-width:1\"/>\n",
              "        \n",
              "        \n",
              "        \n",
              "        \n",
              "        \n",
              "        \n",
              "      </svg>\n",
              "    "
            ]
          },
          "metadata": {}
        }
      ]
    },
    {
      "cell_type": "markdown",
      "source": [
        "Write a function to draw a square using turtle.\n",
        "Each side of the square should be 100 units long. <br>\n",
        "**Should not more than (3 minutes)**"
      ],
      "metadata": {
        "id": "xDi5q5zZusp-"
      }
    },
    {
      "cell_type": "code",
      "source": [
        "def draw_square():\n",
        "  for i in range(4):\n",
        "    Turtle.()\n",
        "    Turtle.right(90)\n",
        "draw_square()"
      ],
      "metadata": {
        "id": "2fKQ6p9u3CeV"
      },
      "execution_count": null,
      "outputs": []
    },
    {
      "cell_type": "markdown",
      "source": [
        "Run this code after previous question finished"
      ],
      "metadata": {
        "id": "Q_fONfx_u4tO"
      }
    },
    {
      "cell_type": "code",
      "source": [
        "Turtle.clear()"
      ],
      "metadata": {
        "id": "b-knIJbX97x5"
      },
      "execution_count": null,
      "outputs": []
    },
    {
      "cell_type": "markdown",
      "source": [
        "Draw a triangle using turtle with 120 degree <br> **(Should not more than 4 minutes)**"
      ],
      "metadata": {
        "id": "CNNxWjJuu7cz"
      }
    },
    {
      "cell_type": "code",
      "source": [
        "def draw_triangle():\n",
        "    for _ in range():\n",
        "        Turtle.forward(100)\n",
        "\n",
        "draw_triangle()"
      ],
      "metadata": {
        "id": "MsTWjq_c3ub9"
      },
      "execution_count": null,
      "outputs": []
    },
    {
      "cell_type": "markdown",
      "source": [
        "#### Answering Questions (No Coding Required)\n"
      ],
      "metadata": {
        "id": "ITgiNeOa4lW1"
      }
    },
    {
      "cell_type": "markdown",
      "source": [
        "What does this turtle code do?\n",
        "\n",
        "\n",
        "```\n",
        "import turtle\n",
        "turtle.circle(50)\n",
        "```\n",
        "\n",
        "\n",
        "1.   Draws a circle with a diameter of 50\n",
        "2.   Draws a circle with a radius of 50\n",
        "3.   Draws a circle with a circumference of 50\n",
        "\n",
        "\n",
        "\n",
        "\n",
        "<a href=\"https://trinket.io/python/dd7aafbf1561\" target=\"_blank\">See the output in Trinket</a>"
      ],
      "metadata": {
        "id": "qRIJUFJRvw1q"
      }
    },
    {
      "cell_type": "markdown",
      "source": [
        "Which method is used to change the color of the turtle's pen?\n",
        "\n",
        "\n",
        "1.   `turtle.setcolor()`\n",
        "2.   `turtle.pencolor()`\n",
        "3.   `turtle.fillcolor()`\n"
      ],
      "metadata": {
        "id": "4A_6kP4AwJ1d"
      }
    },
    {
      "cell_type": "markdown",
      "source": [
        "#### Output questions"
      ],
      "metadata": {
        "id": "v70EqFgz4_Cj"
      }
    },
    {
      "cell_type": "markdown",
      "source": [
        "What will the following code do?\n",
        "\n",
        "\n",
        "```\n",
        "import turtle\n",
        "for i in range(4):\n",
        "    turtle.forward(50)\n",
        "    turtle.right(90)\n",
        "```\n",
        "\n",
        "\n",
        "1.   Draws a square\n",
        "2.   Draws a triangle\n",
        "3.   Draws a straight line\n",
        "\n",
        "\n",
        "<br>\n",
        "<a href=\"https://trinket.io/python/adf38e88484d?showInstructions=true\" target=\"_blank\">See the output in Trinket</a>\n"
      ],
      "metadata": {
        "id": "HGgB1EbBwcTb"
      }
    },
    {
      "cell_type": "markdown",
      "source": [
        "What does this code do?\n",
        "\n",
        "\n",
        "```\n",
        "import turtle\n",
        "turtle.penup()\n",
        "turtle.goto(-100, 100)\n",
        "turtle.pendown()\n",
        "turtle.circle(50)\n",
        "```\n",
        "\n",
        "\n",
        "1.   Moves the turtle to the center and draws a circle\n",
        "2.   Moves the turtle to a new position and draws a circle\n",
        "3.   Only moves the turtle, no circle is drawn\n",
        "\n",
        "<br>\n",
        "\n",
        "<a href=\"https://trinket.io/python/c7c7e985a97a?showInstructions=true\" target=\"_blank\">See the output in Trinket</a>\n"
      ],
      "metadata": {
        "id": "1826_zf2wvXA"
      }
    }
  ]
}